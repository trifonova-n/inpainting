{
 "cells": [
  {
   "cell_type": "code",
   "execution_count": null,
   "metadata": {},
   "outputs": [],
   "source": [
    "%pylab inline\n",
    "%load_ext autoreload\n",
    "%autoreload 2\n",
    "from inpainting.dataset import Data, ResizeTransform, ConditionSampler\n",
    "from gan.conditional_gan import Generator5Net, Discriminator5\n",
    "from gan.losses import GeneratorLoss, DiscriminatorLoss\n",
    "from gan.trainer import GanTrainer\n",
    "from torch.utils.data import DataLoader \n",
    "from torch.utils.data.dataset import Subset\n",
    "import torch\n",
    "import matplotlib.pyplot as plt\n",
    "import pandas as pd\n",
    "from inpainting.visualize import plot_batch\n",
    "from inpainting.visualize import cGanPlotLossCallback, ConditionDescriber\n",
    "from inpainting import cond_celeba_config as conf\n",
    "from inpainting.visualizer import Visualizer\n",
    "from performance.estimator import FIDEstimator\n",
    "\n",
    "%matplotlib notebook"
   ]
  },
  {
   "cell_type": "code",
   "execution_count": null,
   "metadata": {},
   "outputs": [],
   "source": [
    "#torch.cuda.set_device(conf.CUDA_DEVICE)\n",
    "device = torch.device(conf.DEVICE)"
   ]
  },
  {
   "cell_type": "code",
   "execution_count": null,
   "metadata": {},
   "outputs": [],
   "source": [
    "\n",
    "transform = ResizeTransform()\n",
    "data = Data(conf.DATA_PATH, transform, return_attr=True, conditions=conf.conditions)\n",
    "noise_sampler = ConditionSampler(data, conf.Z_SIZE)\n",
    "#data = Subset(data, range(100))\n",
    "train_size = int(0.8 * len(data))\n",
    "valid_size = len(data) - train_size\n",
    "train_data, valid_data = torch.utils.data.random_split(data, [train_size, valid_size])\n",
    "train_loader = DataLoader(train_data, batch_size=conf.BATCH_SIZE, num_workers=conf.NUM_WORKERS, shuffle=True)\n",
    "valid_loader = DataLoader(valid_data, batch_size=conf.BATCH_SIZE, num_workers=conf.NUM_WORKERS, shuffle=True)\n",
    "print('Dataset size: ', len(data))\n",
    "print('y size: ', conf.Y_SIZE)\n"
   ]
  },
  {
   "cell_type": "code",
   "execution_count": null,
   "metadata": {},
   "outputs": [],
   "source": [
    "estimator = FIDEstimator(noise_sampler, config=conf)"
   ]
  },
  {
   "cell_type": "code",
   "execution_count": null,
   "metadata": {},
   "outputs": [],
   "source": [
    "cd = ConditionDescriber(conf.conditions)\n",
    "y = cd.create_y(Male=False, Smiling=True, Young=True, Eyeglasses=False)\n",
    "#y = np.array([0, 1, 0, 0, 0])*2 - 1\n",
    "idx = data.find_image(y)\n",
    "img, y_new = data[idx]\n",
    "print(y_new)\n",
    "plot_batch([img], normalize=True, limit=1, descriptions=[cd.describe(y)])"
   ]
  },
  {
   "cell_type": "code",
   "execution_count": null,
   "metadata": {},
   "outputs": [],
   "source": [
    "generator = Generator5Net(conf.Z_SIZE, conf.Y_SIZE).to(device)\n",
    "discriminator = Discriminator5(conf.Y_SIZE).to(device)"
   ]
  },
  {
   "cell_type": "code",
   "execution_count": null,
   "metadata": {},
   "outputs": [],
   "source": [
    "visualizer = Visualizer(conf, noise_sampler)\n",
    "trainer = GanTrainer(generator, discriminator, conf, noise_sampler, visualizer=visualizer, estimator=estimator)"
   ]
  },
  {
   "cell_type": "code",
   "execution_count": null,
   "metadata": {
    "scrolled": true
   },
   "outputs": [],
   "source": [
    "if conf.CONTINUE_TRAINING:\n",
    "    trainer.load_last_checkpoint()\n",
    "    \n",
    "trainer.train(train_loader, valid_loader, n_epochs=200)"
   ]
  },
  {
   "cell_type": "code",
   "execution_count": null,
   "metadata": {},
   "outputs": [],
   "source": [
    "LOAD_MODEL = True\n",
    "LOAD_EPOCH_N = 40\n",
    "if LOAD_MODEL:\n",
    "    generator.load_state_dict(torch.load(conf.MODEL_PATH + 'generator_%d.pth' % (LOAD_EPOCH_N,)))\n",
    "    discriminator.load_state_dict(torch.load(conf.MODEL_PATH + 'discriminator_%d.pth' % (LOAD_EPOCH_N,)))\n",
    "    generator.eval()\n",
    "    discriminator.eval()"
   ]
  },
  {
   "cell_type": "code",
   "execution_count": null,
   "metadata": {},
   "outputs": [],
   "source": [
    "print(estimator.score(generator, valid_loader))"
   ]
  },
  {
   "cell_type": "code",
   "execution_count": null,
   "metadata": {},
   "outputs": [],
   "source": [
    "scalar = lambda v: np.asscalar(v.data.cpu().numpy())\n",
    "\n",
    "Z = torch.normal(mean=torch.zeros(1, generator.z_size)).to(device)\n",
    "        # 'Male', 'Smiling', 'Young', 'Eyeglasses', 'Wearing_Hat'\n",
    "y = cd.create_y(Male=False, Smiling=True, Young=True, Eyeglasses=False, Wearing_Hat=False)\n",
    "print(dtype)\n",
    "idx = data.find_image(y)\n",
    "img, y_new = data[idx]\n",
    "X = torch.tensor(img[np.newaxis,:]).to(device)\n",
    "y = y.astype(np.float32)\n",
    "Y = torch.tensor([y]).to(device)\n",
    "\n",
    "G_sample = generator(Z, Y)\n",
    "D_real, D_logit_real = discriminator(X, Y)\n",
    "D_fake, D_logit_fake = discriminator(G_sample, Y)\n",
    "\n",
    "generator_loss = GeneratorLoss()\n",
    "discriminator_loss = DiscriminatorLoss(label_smoothing=0.25)\n",
    "\n",
    "print(\"D_real: \", scalar(D_real), \"D_fake: \", scalar(D_fake))\n",
    "print(\"D_logit_real: \", scalar(D_logit_real), \"D_logit_fake: \", scalar(D_logit_fake))\n",
    "\n",
    "d_loss = discriminator_loss(D_logit_real, D_logit_fake)\n",
    "\n",
    "print(\"Discriminator loss: \", scalar(d_loss))\n",
    "print(scalar(discriminator_loss(torch.tensor([10.0]).to(device), D_logit_fake)))\n",
    "sample = np.concatenate((img[None, :, :, :], G_sample.data.cpu().numpy()))\n",
    "plot_batch(sample, normalize=True, descriptions=[cd.describe(y)]*2)"
   ]
  },
  {
   "cell_type": "code",
   "execution_count": null,
   "metadata": {},
   "outputs": [],
   "source": [
    "w = discriminator.layer4[0].weight.data.cpu().numpy()\n",
    "print(w.shape)\n",
    "print(w[:, 0:5])\n",
    "print(w[:, 5:])"
   ]
  },
  {
   "cell_type": "code",
   "execution_count": null,
   "metadata": {},
   "outputs": [],
   "source": []
  }
 ],
 "metadata": {
  "kernelspec": {
   "display_name": "Python 3",
   "language": "python",
   "name": "python3"
  },
  "language_info": {
   "codemirror_mode": {
    "name": "ipython",
    "version": 3
   },
   "file_extension": ".py",
   "mimetype": "text/x-python",
   "name": "python",
   "nbconvert_exporter": "python",
   "pygments_lexer": "ipython3",
   "version": "3.5.2"
  }
 },
 "nbformat": 4,
 "nbformat_minor": 1
}
