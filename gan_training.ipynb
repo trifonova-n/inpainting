{
 "cells": [
  {
   "cell_type": "code",
   "execution_count": null,
   "metadata": {},
   "outputs": [],
   "source": [
    "%pylab inline\n",
    "%load_ext autoreload\n",
    "%autoreload 2\n",
    "from inpainting.dataset import Data, ResizeTransform, NoiseSampler\n",
    "from gan.gan import Generator5Net, Discriminator5\n",
    "from gan.trainer import GanTrainer\n",
    "import torch\n",
    "print(torch.__version__)\n",
    "from torch.utils.data import DataLoader, random_split\n",
    "\n",
    "import matplotlib.pyplot as plt\n",
    "import pandas as pd\n",
    "from inpainting.visualize import plot_batch\n",
    "from inpainting.visualize import GanPlotLossCallback as PlotLossCallback\n",
    "from inpainting import celeba_config as conf\n",
    "from inpainting.visualizer import Visualizer\n",
    "from performance.estimator import FIDEstimator\n",
    "\n",
    "%matplotlib notebook"
   ]
  },
  {
   "cell_type": "code",
   "execution_count": null,
   "metadata": {},
   "outputs": [],
   "source": [
    "#torch.cuda.set_device(conf.CUDA_DEVICE)\n",
    "device = torch.device(conf.DEVICE)\n",
    "if hasattr(conf, 'ESTIMATOR_DEVICE'):\n",
    "    estimator_device = torch.device(conf.ESTIMATOR_DEVICE)\n",
    "else:\n",
    "    estimator_device = device"
   ]
  },
  {
   "cell_type": "code",
   "execution_count": null,
   "metadata": {},
   "outputs": [],
   "source": [
    "\n",
    "transform = ResizeTransform()\n",
    "data = Data(conf.DATA_PATH, transform)\n",
    "train_size = int(0.8 * len(data))\n",
    "valid_size = len(data) - train_size\n",
    "train_data, valid_data = torch.utils.data.random_split(data, [train_size, valid_size])\n",
    "train_loader = DataLoader(train_data, batch_size=conf.BATCH_SIZE, num_workers=conf.NUM_WORKERS, shuffle=True)\n",
    "valid_loader = DataLoader(valid_data, batch_size=conf.BATCH_SIZE, num_workers=conf.NUM_WORKERS, shuffle=True)\n",
    "print('Dataset size: ', len(data))\n",
    "noise_sampler = NoiseSampler(conf.Z_SIZE)\n"
   ]
  },
  {
   "cell_type": "code",
   "execution_count": null,
   "metadata": {},
   "outputs": [],
   "source": [
    "estimator = FIDEstimator(noise_sampler, device=estimator_device)"
   ]
  },
  {
   "cell_type": "code",
   "execution_count": null,
   "metadata": {},
   "outputs": [],
   "source": [
    "X_real = []\n",
    "X_fake = []\n",
    "for idx, sample1, sample2 in zip(range(100), valid_loader, train_loader):\n",
    "    X1, = sample1\n",
    "    X2, = sample2\n",
    "    X_real.append(X1[:X2.shape[0], ...])\n",
    "    X_fake.append(X2[:X1.shape[0], ...])\n",
    "X_real = np.concatenate(X_real)\n",
    "X_fake = np.concatenate(X_fake)\n",
    "distance = estimator.distance(X_real, X_fake)\n",
    "print(X_real.shape[0])\n",
    "print(distance)\n",
    "del X1, X2, X_real, X_fake"
   ]
  },
  {
   "cell_type": "code",
   "execution_count": null,
   "metadata": {},
   "outputs": [],
   "source": [
    "generator = Generator5Net(conf.Z_SIZE).to(device)\n",
    "discriminator = Discriminator5().to(device)"
   ]
  },
  {
   "cell_type": "code",
   "execution_count": null,
   "metadata": {},
   "outputs": [],
   "source": [
    "visualizer = Visualizer(conf, noise_sampler)\n",
    "trainer = GanTrainer(generator, discriminator, conf, noise_sampler, visualizer=visualizer, estimator=estimator)"
   ]
  },
  {
   "cell_type": "code",
   "execution_count": null,
   "metadata": {},
   "outputs": [],
   "source": [
    "print(estimator.score(generator, valid_loader))"
   ]
  },
  {
   "cell_type": "code",
   "execution_count": null,
   "metadata": {},
   "outputs": [],
   "source": [
    "if conf.CONTINUE_TRAINING:\n",
    "    trainer.load_last_checkpoint()\n",
    "    \n",
    "trainer.train(train_loader, valid_loader, n_epochs=10)"
   ]
  },
  {
   "cell_type": "code",
   "execution_count": null,
   "metadata": {},
   "outputs": [],
   "source": [
    "\n",
    "#print(Z)"
   ]
  },
  {
   "cell_type": "code",
   "execution_count": null,
   "metadata": {},
   "outputs": [],
   "source": [
    "LOAD_MODEL = True\n",
    "LOAD_EPOCH_N = 90\n",
    "if LOAD_MODEL:\n",
    "    generator.load_state_dict(torch.load(conf.MODEL_PATH + 'generator_%d.pth' % (LOAD_EPOCH_N,)))\n",
    "    discriminator.load_state_dict(torch.load(conf.MODEL_PATH + 'discriminator_%d.pth' % (LOAD_EPOCH_N,)))"
   ]
  },
  {
   "cell_type": "code",
   "execution_count": null,
   "metadata": {},
   "outputs": [],
   "source": [
    "for batch,in train_loader:\n",
    "    plot_batch((batch.data.cpu().numpy() + 1)/2, limit=6)\n",
    "    break"
   ]
  },
  {
   "cell_type": "code",
   "execution_count": null,
   "metadata": {},
   "outputs": [],
   "source": [
    "Z, = noise_sampler.sample()\n",
    "G_sample = generator(Z)\n",
    "sample = G_sample.data.cpu().numpy()\n",
    "print(discriminator.layer4.weight.cpu().detach().numpy())\n",
    "plot_batch((G_sample.data.cpu().numpy() + 1) / 2)"
   ]
  },
  {
   "cell_type": "code",
   "execution_count": null,
   "metadata": {},
   "outputs": [],
   "source": [
    "w = generator.layer3[0].weight.data.cpu().numpy()\n",
    "print(w)"
   ]
  },
  {
   "cell_type": "code",
   "execution_count": null,
   "metadata": {},
   "outputs": [],
   "source": [
    "for X, in valid_loader:\n",
    "    Z, = noise_sampler.sample_batch(valid_loader.batch_size)\n",
    "    G_sample = generator(Z)\n",
    "    D_real, D_logit_real = discriminator(X)\n",
    "    D_fake, D_logit_fake = discriminator(G_sample)\n",
    "    print('D_real', D_real,'\\n', 'D_fake', D_fake)\n",
    "    print('D_logit_real', D_logit_real, '\\n', 'D_logit_fake', D_logit_fake)\n",
    "    break\n",
    "    "
   ]
  },
  {
   "cell_type": "code",
   "execution_count": null,
   "metadata": {},
   "outputs": [],
   "source": []
  }
 ],
 "metadata": {
  "kernelspec": {
   "display_name": "Python 3",
   "language": "python",
   "name": "python3"
  },
  "language_info": {
   "codemirror_mode": {
    "name": "ipython",
    "version": 3
   },
   "file_extension": ".py",
   "mimetype": "text/x-python",
   "name": "python",
   "nbconvert_exporter": "python",
   "pygments_lexer": "ipython3",
   "version": "3.5.2"
  }
 },
 "nbformat": 4,
 "nbformat_minor": 1
}
