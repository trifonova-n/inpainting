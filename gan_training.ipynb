{
 "cells": [
  {
   "cell_type": "code",
   "execution_count": null,
   "metadata": {},
   "outputs": [],
   "source": [
    "%pylab inline\n",
    "%load_ext autoreload\n",
    "%autoreload 2\n",
    "from dataset import Data, ResizeTransform\n",
    "from gan import GeneratorNet, Discriminator, train\n",
    "from torch.utils.data import DataLoader\n",
    "import torch\n",
    "import matplotlib.pyplot as plt\n",
    "from visualize import plot_batch, PlotLossCallback\n",
    "\n",
    "%matplotlib notebook"
   ]
  },
  {
   "cell_type": "code",
   "execution_count": null,
   "metadata": {},
   "outputs": [],
   "source": [
    "DATA_PATH = 'data/img_align_celeba'\n",
    "BATCH_SIZE = 16\n",
    "NUM_WORKERS = 2\n",
    "Z_SIZE = 16\n",
    "transform = ResizeTransform()\n",
    "data = Data(DATA_PATH, Z_SIZE, transform)\n",
    "data_loader = DataLoader(data, batch_size=BATCH_SIZE, num_workers=NUM_WORKERS, drop_last=True)"
   ]
  },
  {
   "cell_type": "code",
   "execution_count": null,
   "metadata": {},
   "outputs": [],
   "source": [
    "generator = GeneratorNet(Z_SIZE).cuda()\n",
    "discriminator = Discriminator().cuda()"
   ]
  },
  {
   "cell_type": "code",
   "execution_count": null,
   "metadata": {},
   "outputs": [],
   "source": [
    "callback = PlotLossCallback(generator, discriminator)\n",
    "train(generator, discriminator, data_loader, 100, k=2, callback_func=callback)\n"
   ]
  },
  {
   "cell_type": "code",
   "execution_count": null,
   "metadata": {},
   "outputs": [],
   "source": [
    "Z = torch.normal(mean=torch.zeros(4, generator.z_size)).cuda()\n",
    "G_sample = generator(Z)\n",
    "print(Z)"
   ]
  },
  {
   "cell_type": "code",
   "execution_count": null,
   "metadata": {},
   "outputs": [],
   "source": [
    "for batch, Z in data_loader:\n",
    "    plot_batch(batch.data.cpu().numpy())\n",
    "    break"
   ]
  },
  {
   "cell_type": "code",
   "execution_count": null,
   "metadata": {},
   "outputs": [],
   "source": [
    "plot_batch(G_sample.data.cpu().numpy())"
   ]
  },
  {
   "cell_type": "code",
   "execution_count": null,
   "metadata": {},
   "outputs": [],
   "source": [
    "w = generator.layer3[0].weight.data.cpu().numpy()\n",
    "print(w)"
   ]
  },
  {
   "cell_type": "code",
   "execution_count": null,
   "metadata": {},
   "outputs": [],
   "source": [
    "for batch, Z in data_loader:\n",
    "    X = batch.cuda()\n",
    "    Z = Z.cuda()\n",
    "    G_sample = generator(Z)\n",
    "    D_real, D_logit_real = discriminator(X)\n",
    "    D_fake, D_logit_fake = discriminator(G_sample)\n",
    "    print('D_real', D_real,'\\n', 'D_fake', D_fake)\n",
    "    print('D_logit_real', D_logit_real, '\\n', 'D_logit_fake', D_logit_fake)\n",
    "    break\n",
    "    "
   ]
  },
  {
   "cell_type": "code",
   "execution_count": null,
   "metadata": {},
   "outputs": [],
   "source": []
  }
 ],
 "metadata": {
  "kernelspec": {
   "display_name": "Python 3",
   "language": "python",
   "name": "python3"
  },
  "language_info": {
   "codemirror_mode": {
    "name": "ipython",
    "version": 3
   },
   "file_extension": ".py",
   "mimetype": "text/x-python",
   "name": "python",
   "nbconvert_exporter": "python",
   "pygments_lexer": "ipython3",
   "version": "3.5.2"
  }
 },
 "nbformat": 4,
 "nbformat_minor": 1
}
