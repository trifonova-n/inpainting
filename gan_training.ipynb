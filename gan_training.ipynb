{
 "cells": [
  {
   "cell_type": "code",
   "execution_count": 4,
   "metadata": {},
   "outputs": [
    {
     "name": "stdout",
     "output_type": "stream",
     "text": [
      "Populating the interactive namespace from numpy and matplotlib\n",
      "The autoreload extension is already loaded. To reload it, use:\n",
      "  %reload_ext autoreload\n",
      "0.4.0\n"
     ]
    },
    {
     "ename": "ImportError",
     "evalue": "cannot import name 'random_split'",
     "traceback": [
      "\u001b[0;31m---------------------------------------------------------------------------\u001b[0m",
      "\u001b[0;31mImportError\u001b[0m                               Traceback (most recent call last)",
      "\u001b[0;32m<ipython-input-4-9bc2c91b46de>\u001b[0m in \u001b[0;36m<module>\u001b[0;34m()\u001b[0m\n\u001b[1;32m      7\u001b[0m \u001b[0;32mimport\u001b[0m \u001b[0mtorch\u001b[0m\u001b[0;34m\u001b[0m\u001b[0m\n\u001b[1;32m      8\u001b[0m \u001b[0mprint\u001b[0m\u001b[0;34m(\u001b[0m\u001b[0mtorch\u001b[0m\u001b[0;34m.\u001b[0m\u001b[0m__version__\u001b[0m\u001b[0;34m)\u001b[0m\u001b[0;34m\u001b[0m\u001b[0m\n\u001b[0;32m----> 9\u001b[0;31m \u001b[0;32mfrom\u001b[0m \u001b[0mtorch\u001b[0m\u001b[0;34m.\u001b[0m\u001b[0mutils\u001b[0m\u001b[0;34m.\u001b[0m\u001b[0mdata\u001b[0m \u001b[0;32mimport\u001b[0m \u001b[0mDataLoader\u001b[0m\u001b[0;34m,\u001b[0m \u001b[0mrandom_split\u001b[0m\u001b[0;34m\u001b[0m\u001b[0m\n\u001b[0m\u001b[1;32m     10\u001b[0m \u001b[0;34m\u001b[0m\u001b[0m\n\u001b[1;32m     11\u001b[0m \u001b[0;32mimport\u001b[0m \u001b[0mmatplotlib\u001b[0m\u001b[0;34m.\u001b[0m\u001b[0mpyplot\u001b[0m \u001b[0;32mas\u001b[0m \u001b[0mplt\u001b[0m\u001b[0;34m\u001b[0m\u001b[0m\n",
      "\u001b[0;31mImportError\u001b[0m: cannot import name 'random_split'"
     ],
     "output_type": "error"
    }
   ],
   "source": [
    "%pylab inline\n",
    "%load_ext autoreload\n",
    "%autoreload 2\n",
    "from inpainting.dataset import Data, ResizeTransform, NoiseSampler\n",
    "from gan.gan import Generator5Net, Discriminator5\n",
    "from gan.trainer import GanTrainer\n",
    "import torch\n",
    "print(torch.__version__)\n",
    "from torch.utils.data import DataLoader, random_split\n",
    "\n",
    "import matplotlib.pyplot as plt\n",
    "import pandas as pd\n",
    "from inpainting.visualize import plot_batch\n",
    "from inpainting.visualize import GanPlotLossCallback as PlotLossCallback\n",
    "from inpainting import celeba_config as conf\n",
    "from inpainting.visualizer import Visualizer\n",
    "from performance.estimator import FIDEstimator\n",
    "\n",
    "%matplotlib notebook"
   ]
  },
  {
   "cell_type": "code",
   "execution_count": null,
   "metadata": {},
   "outputs": [],
   "source": [
    "torch.cuda.set_device(conf.CUDA_DEVICE)"
   ]
  },
  {
   "cell_type": "code",
   "execution_count": null,
   "metadata": {},
   "outputs": [],
   "source": [
    "\n",
    "transform = ResizeTransform()\n",
    "data = Data(conf.DATA_PATH, transform)\n",
    "train_size = int(0.8 * len(data))\n",
    "valid_size = len(data) - train_size\n",
    "train_data, valid_data = torch.utils.data.random_split(data, [train_size, valid_size])\n",
    "train_loader = DataLoader(train_data, batch_size=conf.BATCH_SIZE, num_workers=conf.NUM_WORKERS, shuffle=True)\n",
    "valid_loader = DataLoader(valid_data, batch_size=conf.BATCH_SIZE, num_workers=conf.NUM_WORKERS, shuffle=True)\n",
    "print('Dataset size: ', len(data))\n",
    "noise_sampler = NoiseSampler(conf.Z_SIZE)\n"
   ]
  },
  {
   "cell_type": "code",
   "execution_count": null,
   "metadata": {},
   "outputs": [],
   "source": [
    "estimator = FIDEstimator()\n",
    "X1, = next(iter(train_loader))\n",
    "X2, = next(iter(valid_loader))\n",
    "distance = estimator.distance(X1, X2)\n",
    "print(distance)\n",
    "del X1, X2, estimator"
   ]
  },
  {
   "cell_type": "code",
   "execution_count": null,
   "metadata": {},
   "outputs": [],
   "source": [
    "generator = Generator5Net(conf.Z_SIZE).cuda()\n",
    "discriminator = Discriminator5().cuda()"
   ]
  },
  {
   "cell_type": "code",
   "execution_count": null,
   "metadata": {},
   "outputs": [],
   "source": [
    "visualizer = Visualizer(conf, noise_sampler)\n",
    "trainer = GanTrainer(generator, discriminator, conf, noise_sampler, visualizer=visualizer)"
   ]
  },
  {
   "cell_type": "code",
   "execution_count": null,
   "metadata": {},
   "outputs": [],
   "source": [
    "if conf.CONTINUE_TRAINING:\n",
    "    trainer.load_last_checkpoint()\n",
    "    \n",
    "trainer.train(train_loader, valid_loader, n_epochs=10)"
   ]
  },
  {
   "cell_type": "code",
   "execution_count": null,
   "metadata": {},
   "outputs": [],
   "source": [
    "\n",
    "#print(Z)"
   ]
  },
  {
   "cell_type": "code",
   "execution_count": null,
   "metadata": {},
   "outputs": [],
   "source": [
    "LOAD_MODEL = True\n",
    "LOAD_EPOCH_N = 2\n",
    "if LOAD_MODEL:\n",
    "    generator.load_state_dict(torch.load(conf.MODEL_PATH + 'generator_%d.pth' % (LOAD_EPOCH_N,)))\n",
    "    discriminator.load_state_dict(torch.load(conf.MODEL_PATH + 'discriminator_%d.pth' % (LOAD_EPOCH_N,)))"
   ]
  },
  {
   "cell_type": "code",
   "execution_count": null,
   "metadata": {},
   "outputs": [],
   "source": [
    "for batch,in train_loader:\n",
    "    plot_batch((batch.data.cpu().numpy() + 1)/2, limit=6)\n",
    "    break"
   ]
  },
  {
   "cell_type": "code",
   "execution_count": null,
   "metadata": {},
   "outputs": [],
   "source": [
    "Z, = noise_sampler.sample()\n",
    "G_sample = generator(Z)\n",
    "sample = G_sample.data.cpu().numpy()\n",
    "print(discriminator.layer4.weight.cpu().detach().numpy())\n",
    "plot_batch((G_sample.data.cpu().numpy() + 1) / 2)"
   ]
  },
  {
   "cell_type": "code",
   "execution_count": null,
   "metadata": {},
   "outputs": [],
   "source": [
    "w = generator.layer3[0].weight.data.cpu().numpy()\n",
    "print(w)"
   ]
  },
  {
   "cell_type": "code",
   "execution_count": null,
   "metadata": {},
   "outputs": [],
   "source": [
    "for X, in valid_loader:\n",
    "    Z, = noise_sampler.sample_batch(valid_loader.batch_size)\n",
    "    G_sample = generator(Z)\n",
    "    D_real, D_logit_real = discriminator(X)\n",
    "    D_fake, D_logit_fake = discriminator(G_sample)\n",
    "    print('D_real', D_real,'\\n', 'D_fake', D_fake)\n",
    "    print('D_logit_real', D_logit_real, '\\n', 'D_logit_fake', D_logit_fake)\n",
    "    break\n",
    "    "
   ]
  },
  {
   "cell_type": "code",
   "execution_count": null,
   "metadata": {},
   "outputs": [],
   "source": []
  }
 ],
 "metadata": {
  "kernelspec": {
   "display_name": "Python 3",
   "language": "python",
   "name": "python3"
  }
 },
 "nbformat": 4,
 "nbformat_minor": 1
}
